{
 "cells": [
  {
   "cell_type": "code",
   "id": "25348d4551fb4d1b",
   "metadata": {},
   "source": [
    "#IMPORT DAS LIBS\n",
    "import json\n",
    "import os\n",
    "from datetime import datetime\n",
    "from crewai import Agent, Task, Process, Crew\n",
    "\n",
    "import yfinance as yf\n",
    "\n",
    "from langchain.tools import (Tool)\n",
    "from langchain_openai import ChatOpenAI\n",
    "from langchain_community.tools import DuckDuckGoSearchResults\n",
    "\n",
    "from IPython.display import Markdown"
   ],
   "outputs": [],
   "execution_count": null
  },
  {
   "cell_type": "code",
   "id": "98a72e7d362a144c",
   "metadata": {},
   "source": [
    "# CRIANDO YAHOO FINANCE TOOL\n",
    "def fetch_stock_price(ticket):\n",
    "    stock = yf.download(ticket, period=\"1y\")\n",
    "    return stock\n",
    "\n",
    "yahoo_finance_tool = Tool(\n",
    "    name = \"Yahoo Finance Tool\",\n",
    "    description = \"This tool fetches stock prices from Yahoo Finance API for {ticket} in the last year.\",\n",
    "    func = lambda ticket: fetch_stock_price(ticket),\n",
    ")"
   ],
   "outputs": [],
   "execution_count": null
  },
  {
   "cell_type": "code",
   "id": "4965727faa33b7ad",
   "metadata": {},
   "source": [
    "# response = yahoo_finance_tool.run(\"AAPL\")"
   ],
   "outputs": [],
   "execution_count": null
  },
  {
   "cell_type": "code",
   "id": "9bc0ea7762c69504",
   "metadata": {},
   "source": [
    "# IMPORTANDO OPENAI LLM - GPT\n",
    "os.environ[\"OPENAI_API_KEY\"] = \"\"\n",
    "llm = ChatOpenAI(model=\"gpt-3.5-turbo\")"
   ],
   "outputs": [],
   "execution_count": null
  },
  {
   "cell_type": "code",
   "id": "b4fb625585f8b7cc",
   "metadata": {},
   "source": [
    "# CRIANDO AGENTE - STOCK PRICE ANALYST\n",
    "stockPriceAnalyst = Agent(\n",
    "    role = \"Senior Stock Price Analyst\",\n",
    "    goal = \"Find the {ticket} stock price in the last year and analyze it.\",\n",
    "    backstory = \"You're a highly experienced in analyzing the price of an specific stock and make predictions about it's future price.\",\n",
    "    verbose = True,\n",
    "    llm = llm,\n",
    "    max_iter = 5,\n",
    "    memory = True,\n",
    "     allow_delegation = False,\n",
    "    tools = [yahoo_finance_tool]\n",
    ")\n",
    "\n",
    "getStockPrice = Task(\n",
    "    description= \"Analyze the stock price history of {ticket} and create a trend analyses of up, down or sideways\",\n",
    "    expected_output = \"\"\" Specify the current trend of the stock price of {ticket} - up, down or sideways.\n",
    "    eg. stock = 'AAPL, price UP'\n",
    "    \"\"\",\n",
    "    agent = stockPriceAnalyst,\n",
    ")"
   ],
   "outputs": [],
   "execution_count": null
  },
  {
   "cell_type": "code",
   "id": "bea9663a48284f7c",
   "metadata": {},
   "source": [
    "# IMPORTANDO A TOOL DE SEARCH\n",
    "search_tool = DuckDuckGoSearchResults(backend=\"news\", num_results = 10)"
   ],
   "outputs": [],
   "execution_count": null
  },
  {
   "cell_type": "code",
   "id": "c554e3d368234517",
   "metadata": {},
   "source": [
    "# CRIANDO AGENTE - NEWS ANALYST\n",
    "newsAnalyst = Agent(\n",
    "    role = \"Stock News Analyst\",\n",
    "    goal = \"\"\"Create a short summary of the market news related to the stock {ticket} company. \n",
    "    Specify the current trend of the stock price of {ticket} - up, down or sideways with the news context.\n",
    "    For each requested stock asset, specify a number between 0 and 100, where 0 means extreme fear and 100 means extreme greed.\n",
    "    \"\"\",\n",
    "    backstory = \"\"\"\n",
    "    You're a highly experienced in analyzing the market trends and news related to an specific stock and make predictions about it's future price and have tracked assets for more than 10 years.\n",
    "    You're also master level analyst in the traditional market and have deep understanding of human psychology.\n",
    "    You understand news, their titles and information, but you look at those with a healthy dose of skepticism, as you know that news can be biased and that the market is driven by human emotions.\n",
    "    You also consider the source of news article.\n",
    "    \"\"\",\n",
    "    verbose = True,\n",
    "    llm = llm,\n",
    "    max_iter = 5,\n",
    "    memory = True,\n",
    "    allow_delegation = False,\n",
    "    tools = [search_tool]\n",
    ")\n",
    "\n",
    "getNews = Task(\n",
    "    description= \"\"\"Analyze the news related to stock {ticket} and create a summary of the market news related to the stock {ticket} company. \n",
    "    Use the search tool to find the news.\n",
    "    \n",
    "    The current date is {current_date}.\n",
    "    \n",
    "    Compose the results into a helpful report for the user.\n",
    "    \"\"\",\n",
    "    expected_output = \"\"\"A summary of the overall market and one sentence summary for each request asset.\n",
    "    Include a fear/greed score for each asset based on the news. Use the format:\n",
    "    <STOCK ASSET>\n",
    "    <SUMMARY BASED ON NEWS>\n",
    "    <TREND PREDICTION>\n",
    "    <FEAR/GREED SCORE>\n",
    "    \"\"\",\n",
    "    agent = newsAnalyst,\n",
    ")"
   ],
   "outputs": [],
   "execution_count": null
  },
  {
   "cell_type": "code",
   "id": "9170fe09d34bcda3",
   "metadata": {},
   "source": [
    "# CRIANDO AGENTE - STOCK ANALYST WRITE\n",
    "stockPriceAnalystWrite = Agent(\n",
    "    role = \"Senior Stock Analyst Writer\",\n",
    "    goal = \"\"\"Write an insightful compelling and informative 3 paragraph long newsletter based on the stock report and price trend.\"\"\",\n",
    "    backstory = \"\"\"You're widely accepted as the best stock analyst in the market. You understand complex concepts and create compelling stories and narratives that resonate with wider audiences. \n",
    "    You have a deep understanding of human psychology and how it affects the market. \n",
    "    You have a strong track record of making accurate predictions and have been featured in major financial publications. \n",
    "    You have a large following on social media and are known for your ability to explain complex concepts in simple terms.\n",
    "    You understand macro factors and combine multiple theories - eg. cycle theory, fundamental analysis, technical analysis, etc.\n",
    "    You're able to hold multiple opinions when analyzing a stock and can see both sides of an argument.\n",
    "    \"\"\",   \n",
    "    verbose = True,\n",
    "    llm = llm,\n",
    "    max_iter = 5,\n",
    "    memory = True,\n",
    "    allow_delegation = True\n",
    ")\n",
    "\n",
    "writeAnalysis = Task(\n",
    "    description= \"\"\"Use the stock price trend and the stock news report to create an analysis and write the newsletter about the {ticket} company that is brief and highlights the most important points.\n",
    "    Focus on the stock price trend, news and fear/greed score. What are the near future considerations?\n",
    "    Include the previous analysis of stock trend and news summary.\n",
    "    \"\"\",\n",
    "    expected_output = \"\"\"An eloquent 3 paragraphs newsletter formated as markdown in an easy readable manner. It should contain the following information:\n",
    "    - 3 bullets executive summary.\n",
    "    - Introduction - set the overall picture and spike up the interest.\n",
    "    - Main part - provides the details of the analysis, including the news summary and fear/greed scores.\n",
    "    - Summary -  Wrap up the key facts and concrete future trend prediction - up, down or sideways.\n",
    "    \"\"\",\n",
    "    agent = stockPriceAnalystWrite,\n",
    "    context = [getStockPrice, getNews]\n",
    ")"
   ],
   "outputs": [],
   "execution_count": null
  },
  {
   "cell_type": "code",
   "id": "975661e949c87906",
   "metadata": {},
   "source": [
    "# CRIAR GRUPO DE AGENTES DE IA\n",
    "crew = Crew(\n",
    "    agents = [stockPriceAnalyst, newsAnalyst, stockPriceAnalystWrite],\n",
    "    tasks = [getStockPrice, getNews, writeAnalysis],\n",
    "    verbose = True,\n",
    "    process = Process.hierarchical,\n",
    "    full_output = True,\n",
    "    share_crew = False,\n",
    "    manager_llm = llm,\n",
    "    max_iter = 15\n",
    ")"
   ],
   "outputs": [],
   "execution_count": null
  },
  {
   "cell_type": "code",
   "id": "a425390b852d8c1c",
   "metadata": {},
   "source": [
    "results = crew.kickoff(inputs={\"ticket\": \"AAPL\", \"current_date\": datetime.now()})"
   ],
   "outputs": [],
   "execution_count": null
  },
  {
   "metadata": {},
   "cell_type": "code",
   "source": "Markdown(results['final_output'])",
   "id": "7b720ec9dfd23e9c",
   "outputs": [],
   "execution_count": null
  }
 ],
 "metadata": {
  "kernelspec": {
   "display_name": "Python 3",
   "language": "python",
   "name": "python3"
  },
  "language_info": {
   "codemirror_mode": {
    "name": "ipython",
    "version": 2
   },
   "file_extension": ".py",
   "mimetype": "text/x-python",
   "name": "python",
   "nbconvert_exporter": "python",
   "pygments_lexer": "ipython2",
   "version": "2.7.6"
  }
 },
 "nbformat": 4,
 "nbformat_minor": 5
}
